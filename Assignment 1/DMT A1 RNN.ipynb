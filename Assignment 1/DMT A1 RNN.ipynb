{
 "cells": [
  {
   "cell_type": "code",
   "execution_count": 4,
   "metadata": {},
   "outputs": [],
   "source": [
    "import pandas as pd\n",
    "import numpy as np\n",
    "import matplotlib.pyplot as plt\n",
    "import tensorflow as tf\n",
    "from tensorflow.keras.models import Sequential\n",
    "from tensorflow.keras.layers import Dense, Dropout, LSTM\n",
    "from sklearn.model_selection import train_test_split\n",
    "\n",
    "#Import data\n",
    "df = pd.read_csv('df_temporal.csv',index_col=0)\n",
    "df.set_index(['ID','time','t'],drop=True,inplace=True)\n",
    "df.reset_index(drop=False,inplace=True)\n",
    "df.fillna(0,inplace=True)\n",
    "ids = df.ID.unique()\n",
    "\n",
    "window = 5\n",
    "t_test = []\n",
    "t_pred = []\n",
    "test_id = []"
   ]
  },
  {
   "cell_type": "code",
   "execution_count": 5,
   "metadata": {},
   "outputs": [],
   "source": [
    "ids2 = ids.tolist()[1:7]\n",
    "ids2.extend(ids.tolist()[8:10])\n",
    "ids2.extend(ids.tolist()[11:len(ids)])\n",
    "del ids2[22]\n",
    "ids2 = np.array(ids2)"
   ]
  },
  {
   "cell_type": "code",
   "execution_count": 6,
   "metadata": {},
   "outputs": [
    {
     "name": "stdout",
     "output_type": "stream",
     "text": [
      "AS14.01\n",
      "AS14.02\n",
      "AS14.03\n",
      "AS14.05\n",
      "AS14.06\n",
      "AS14.07\n",
      "AS14.08\n",
      "AS14.09\n",
      "AS14.12\n",
      "AS14.13\n",
      "AS14.14\n",
      "AS14.15\n",
      "AS14.16\n",
      "AS14.17\n",
      "AS14.19\n",
      "AS14.20\n",
      "AS14.23\n",
      "AS14.24\n",
      "AS14.25\n",
      "AS14.26\n",
      "AS14.27\n",
      "AS14.28\n",
      "AS14.29\n",
      "AS14.30\n",
      "AS14.31\n",
      "AS14.32\n",
      "AS14.33\n"
     ]
    }
   ],
   "source": [
    "for i in ids:\n",
    "    X = df[df.ID.values == i].iloc[:,range(3,len(df.columns))]\n",
    "    \n",
    "    last = int(len(df[df.ID.values == i])/5)\n",
    "    X_train = X[:-last]\n",
    "    X_test = X[-last-window:]\n",
    "    in_tr = []\n",
    "    out_tr = []\n",
    "    for j in range(window,len(X_train)):\n",
    "        in_tr.append(np.array(X_train.iloc[j-window:j,:]))\n",
    "        out_tr.append(np.array(X_train.iloc[j,0]))\n",
    "     \n",
    "    in_tr, out_tr = np.array(in_tr), np.array(out_tr)\n",
    "\n",
    "    in_te = []\n",
    "    out_te = []\n",
    "    for j in range(window,len(X_test)):\n",
    "        in_te.append(np.array(X_test.iloc[j-window:j,:]))\n",
    "        out_te.append(np.array(X_test.iloc[j,0]))\n",
    "     \n",
    "    in_te, out_te = np.array(in_te), np.array(out_te)\n",
    "\n",
    "    model = Sequential()\n",
    "\n",
    "    model.add(LSTM(128, input_shape=(in_tr.shape[1:]), activation='tanh',return_sequences=True))\n",
    "    model.add(Dropout(0.2))\n",
    "\n",
    "    model.add(LSTM(128, input_shape=(in_tr.shape[1:]), activation='tanh',return_sequences=False))\n",
    "    model.add(Dropout(0.2))\n",
    "    model.add(Dense(1, input_shape=([in_tr.shape[0],128]), activation='sigmoid'))\n",
    "\n",
    "    model.compile(loss='mse',optimizer='adam')\n",
    "    model.fit(in_tr, out_tr, epochs=100,verbose=0,batch_size=1)\n",
    "\n",
    "    t_test.extend(out_te.tolist())\n",
    "    test_id.extend(np.repeat(i,len(out_te)))\n",
    "    predictions = model.predict(in_te)\n",
    "    for pred in range(len(predictions)):\n",
    "        t_pred.append(predictions.tolist()[pred][0])\n",
    "    print(i)\n"
   ]
  },
  {
   "cell_type": "code",
   "execution_count": 4,
   "metadata": {
    "scrolled": true
   },
   "outputs": [
    {
     "name": "stdout",
     "output_type": "stream",
     "text": [
      "0.0797108816034076\n"
     ]
    }
   ],
   "source": [
    "from sklearn.metrics import mean_squared_error\n",
    "MSE=mean_squared_error(t_test,t_pred)\n",
    "print(MSE)"
   ]
  },
  {
   "cell_type": "code",
   "execution_count": 5,
   "metadata": {},
   "outputs": [],
   "source": [
    "d={'ID':test_id,'t_test':t_test,'t_pred':t_pred}\n",
    "d2 = {'ID':list(set(test_id)),'MSE':np.repeat(np.nan,len(set(test_id)))}\n",
    "indiv = pd.DataFrame(d)\n",
    "indiv2 = pd.DataFrame(d2)"
   ]
  },
  {
   "cell_type": "code",
   "execution_count": 6,
   "metadata": {},
   "outputs": [],
   "source": [
    "for i in ids:\n",
    "    d_help = indiv.loc[indiv['ID'] == i]\n",
    "    mse=mean_squared_error(d_help.t_test,d_help.t_pred)\n",
    "    indiv2.loc[indiv2['ID']==i,'MSE'] = mse\n"
   ]
  },
  {
   "cell_type": "code",
   "execution_count": 7,
   "metadata": {},
   "outputs": [
    {
     "data": {
      "text/plain": [
       "[9,\n",
       " 8,\n",
       " 9,\n",
       " 10,\n",
       " 9,\n",
       " 9,\n",
       " 12,\n",
       " 9,\n",
       " 8,\n",
       " 10,\n",
       " 9,\n",
       " 11,\n",
       " 10,\n",
       " 11,\n",
       " 9,\n",
       " 9,\n",
       " 8,\n",
       " 11,\n",
       " 6,\n",
       " 13,\n",
       " 8,\n",
       " 7,\n",
       " 8,\n",
       " 9,\n",
       " 8,\n",
       " 8,\n",
       " 9]"
      ]
     },
     "execution_count": 7,
     "metadata": {},
     "output_type": "execute_result"
    }
   ],
   "source": [
    "indiv_length = []\n",
    "indiv_no = []\n",
    "for i in ids:\n",
    "    df_help = indiv.loc[indiv['ID'] == i]\n",
    "    indiv_length.append(len(df_help))\n",
    "    indiv_no.append(i)\n",
    "    \n",
    "indiv_length"
   ]
  },
  {
   "cell_type": "code",
   "execution_count": 12,
   "metadata": {},
   "outputs": [],
   "source": [
    "#indiv['id_no'] =\n",
    "indiv2 = indiv2.sort_values(by=['id_no'],axis=0)\n",
    "\n",
    "#df.sort_values(by=['col1'])\n"
   ]
  },
  {
   "cell_type": "code",
   "execution_count": 19,
   "metadata": {},
   "outputs": [
    {
     "data": {
      "text/plain": [
       "array(['AS14.01', 'AS14.02', 'AS14.03', 'AS14.05', 'AS14.06', 'AS14.07',\n",
       "       'AS14.13', 'AS14.15', 'AS14.16', 'AS14.17', 'AS14.19', 'AS14.20',\n",
       "       'AS14.23', 'AS14.24', 'AS14.25', 'AS14.26', 'AS14.27', 'AS14.28',\n",
       "       'AS14.29', 'AS14.30', 'AS14.31', 'AS14.33'], dtype='<U7')"
      ]
     },
     "execution_count": 19,
     "metadata": {},
     "output_type": "execute_result"
    }
   ],
   "source": [
    "ids2 = ids.tolist()[0:6]\n",
    "ids2.append(ids.tolist()[9])\n",
    "ids2.extend(ids.tolist()[11:len(ids)])\n",
    "del ids2[len(ids2)-2]\n",
    "ids2 = np.array(ids2)\n"
   ]
  },
  {
   "cell_type": "code",
   "execution_count": 14,
   "metadata": {},
   "outputs": [
    {
     "data": {
      "text/plain": [
       "array(['AS14.01', 'AS14.02', 'AS14.03', 'AS14.05', 'AS14.06', 'AS14.07',\n",
       "       'AS14.08', 'AS14.09', 'AS14.12', 'AS14.13', 'AS14.14', 'AS14.15',\n",
       "       'AS14.16', 'AS14.17', 'AS14.19', 'AS14.20', 'AS14.23', 'AS14.24',\n",
       "       'AS14.25', 'AS14.26', 'AS14.27', 'AS14.28', 'AS14.29', 'AS14.30',\n",
       "       'AS14.31', 'AS14.32', 'AS14.33'], dtype=object)"
      ]
     },
     "execution_count": 14,
     "metadata": {},
     "output_type": "execute_result"
    }
   ],
   "source": [
    "ids"
   ]
  },
  {
   "cell_type": "code",
   "execution_count": 23,
   "metadata": {},
   "outputs": [
    {
     "data": {
      "text/plain": [
       "0.05653363373476255"
      ]
     },
     "execution_count": 23,
     "metadata": {},
     "output_type": "execute_result"
    }
   ],
   "source": [
    "indiv2 = indiv2.loc[indiv2['ID'].isin(ids2)]\n",
    "np.mean(indiv2['MSE'])"
   ]
  },
  {
   "cell_type": "code",
   "execution_count": 9,
   "metadata": {},
   "outputs": [
    {
     "name": "stderr",
     "output_type": "stream",
     "text": [
      "//anaconda3/lib/python3.7/site-packages/pandas/core/indexing.py:190: SettingWithCopyWarning: \n",
      "A value is trying to be set on a copy of a slice from a DataFrame\n",
      "\n",
      "See the caveats in the documentation: http://pandas.pydata.org/pandas-docs/stable/indexing.html#indexing-view-versus-copy\n",
      "  self._setitem_with_indexer(indexer, value)\n"
     ]
    }
   ],
   "source": [
    "mse = indiv2['MSE']\n",
    "indiv2['id_no'] = np.nan\n",
    "for a in range(len(indiv2)):\n",
    "    indiv2.iloc[:,2].iloc[a] = indiv2['ID'].values.tolist()[a][-2:]\n",
    "id_no = indiv2['id_no']\n",
    "#plt.bar"
   ]
  },
  {
   "cell_type": "code",
   "execution_count": 13,
   "metadata": {},
   "outputs": [
    {
     "data": {
      "image/png": "[encoded data removed]",
      "text/plain": [
       "<Figure size 720x288 with 1 Axes>"
      ]
     },
     "metadata": {
      "needs_background": "light"
     },
     "output_type": "display_data"
    }
   ],
   "source": [
    "mse = indiv2['MSE']\n",
    "id_no = indiv2['id_no']\n",
    "fig, axs = plt.subplots(1, 1, figsize=(10,4))\n",
    "axs.bar(id_no,mse)\n",
    "axs.set(xlabel='ID',ylabel=\"MSE\")\n",
    "\n",
    "\n",
    "fig.savefig('indiv_mse.pdf',dpi=300)\n"
   ]
  },
  {
   "cell_type": "markdown",
   "metadata": {},
   "source": [
    "t_pred = model.predict(in_te)\n",
    "plt.figure()\n",
    "plt.plot(t_pred,':',label='LSTM')\n",
    "plt.plot(t_test,'--',label='Actual')\n",
    "plt.legend()"
   ]
  }
 ],
 "metadata": {
  "kernelspec": {
   "display_name": "Python 3",
   "language": "python",
   "name": "python3"
  },
  "language_info": {
   "codemirror_mode": {
    "name": "ipython",
    "version": 3
   },
   "file_extension": ".py",
   "mimetype": "text/x-python",
   "name": "python",
   "nbconvert_exporter": "python",
   "pygments_lexer": "ipython3",
   "version": "3.7.3"
  }
 },
 "nbformat": 4,
 "nbformat_minor": 2
}
